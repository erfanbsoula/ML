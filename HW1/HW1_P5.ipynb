{
 "cells": [
  {
   "cell_type": "markdown",
   "id": "e82e8b10",
   "metadata": {},
   "source": [
    "# Machine Learning - HW1 - Part 5"
   ]
  },
  {
   "cell_type": "code",
   "execution_count": 1,
   "id": "8a9b1b8a",
   "metadata": {},
   "outputs": [],
   "source": [
    "import numpy as np\n",
    "import pandas as pd\n",
    "from matplotlib import pyplot as plt"
   ]
  },
  {
   "cell_type": "markdown",
   "id": "60df665f",
   "metadata": {},
   "source": [
    "### Faunction Definitions"
   ]
  },
  {
   "cell_type": "code",
   "execution_count": 2,
   "id": "3c37e6fa",
   "metadata": {},
   "outputs": [],
   "source": [
    "def normal(mu, var, x):\n",
    "    return np.exp( -(x-mu)**2 / (2*var) ) / (np.sqrt(2*np.pi*var))"
   ]
  },
  {
   "cell_type": "code",
   "execution_count": 3,
   "id": "592e6ef2",
   "metadata": {},
   "outputs": [],
   "source": [
    "def draw_confusion_matrix(matrix):\n",
    "    fig, ax = plt.subplots(figsize=(4, 3))\n",
    "    ax.imshow(matrix, cmap='YlGn')\n",
    "\n",
    "    ax.set_xticks(np.arange(2), labels=range(2))\n",
    "    ax.set_yticks(np.arange(2), labels=range(2))\n",
    "\n",
    "    ax.set_xlabel(\"prediction\")\n",
    "    ax.set_ylabel(\"label\")\n",
    "\n",
    "    colors = [['k', 'k'], ['k', 'w']]\n",
    "    for i in range(2):\n",
    "        for j in range(2):\n",
    "            text = ax.text(j, i, matrix[i][j], ha=\"center\", va=\"center\", color=colors[i][j])\n",
    "\n",
    "    ax.set_title(\"Confusion Matrix\")\n",
    "    fig.tight_layout()\n",
    "    plt.show()"
   ]
  },
  {
   "cell_type": "markdown",
   "id": "27751583",
   "metadata": {},
   "source": [
    "### Loading Dataset"
   ]
  },
  {
   "cell_type": "code",
   "execution_count": 4,
   "id": "03d910a4",
   "metadata": {},
   "outputs": [
    {
     "data": {
      "text/html": [
       "<div>\n",
       "<style scoped>\n",
       "    .dataframe tbody tr th:only-of-type {\n",
       "        vertical-align: middle;\n",
       "    }\n",
       "\n",
       "    .dataframe tbody tr th {\n",
       "        vertical-align: top;\n",
       "    }\n",
       "\n",
       "    .dataframe thead th {\n",
       "        text-align: right;\n",
       "    }\n",
       "</style>\n",
       "<table border=\"1\" class=\"dataframe\">\n",
       "  <thead>\n",
       "    <tr style=\"text-align: right;\">\n",
       "      <th></th>\n",
       "      <th>mean_radius</th>\n",
       "      <th>mean_texture</th>\n",
       "      <th>mean_perimeter</th>\n",
       "      <th>mean_area</th>\n",
       "      <th>mean_smoothness</th>\n",
       "      <th>diagnosis</th>\n",
       "    </tr>\n",
       "  </thead>\n",
       "  <tbody>\n",
       "    <tr>\n",
       "      <th>0</th>\n",
       "      <td>17.99</td>\n",
       "      <td>10.38</td>\n",
       "      <td>122.80</td>\n",
       "      <td>1001.0</td>\n",
       "      <td>0.11840</td>\n",
       "      <td>0</td>\n",
       "    </tr>\n",
       "    <tr>\n",
       "      <th>1</th>\n",
       "      <td>20.57</td>\n",
       "      <td>17.77</td>\n",
       "      <td>132.90</td>\n",
       "      <td>1326.0</td>\n",
       "      <td>0.08474</td>\n",
       "      <td>0</td>\n",
       "    </tr>\n",
       "    <tr>\n",
       "      <th>2</th>\n",
       "      <td>19.69</td>\n",
       "      <td>21.25</td>\n",
       "      <td>130.00</td>\n",
       "      <td>1203.0</td>\n",
       "      <td>0.10960</td>\n",
       "      <td>0</td>\n",
       "    </tr>\n",
       "    <tr>\n",
       "      <th>3</th>\n",
       "      <td>11.42</td>\n",
       "      <td>20.38</td>\n",
       "      <td>77.58</td>\n",
       "      <td>386.1</td>\n",
       "      <td>0.14250</td>\n",
       "      <td>0</td>\n",
       "    </tr>\n",
       "    <tr>\n",
       "      <th>4</th>\n",
       "      <td>20.29</td>\n",
       "      <td>14.34</td>\n",
       "      <td>135.10</td>\n",
       "      <td>1297.0</td>\n",
       "      <td>0.10030</td>\n",
       "      <td>0</td>\n",
       "    </tr>\n",
       "  </tbody>\n",
       "</table>\n",
       "</div>"
      ],
      "text/plain": [
       "   mean_radius  mean_texture  mean_perimeter  mean_area  mean_smoothness  \\\n",
       "0        17.99         10.38          122.80     1001.0          0.11840   \n",
       "1        20.57         17.77          132.90     1326.0          0.08474   \n",
       "2        19.69         21.25          130.00     1203.0          0.10960   \n",
       "3        11.42         20.38           77.58      386.1          0.14250   \n",
       "4        20.29         14.34          135.10     1297.0          0.10030   \n",
       "\n",
       "   diagnosis  \n",
       "0          0  \n",
       "1          0  \n",
       "2          0  \n",
       "3          0  \n",
       "4          0  "
      ]
     },
     "execution_count": 4,
     "metadata": {},
     "output_type": "execute_result"
    }
   ],
   "source": [
    "data = pd.read_csv('Data/Breast_cancer_data.csv')\n",
    "data.head(5)"
   ]
  },
  {
   "cell_type": "code",
   "execution_count": 5,
   "id": "872ec2e7",
   "metadata": {},
   "outputs": [
    {
     "data": {
      "text/html": [
       "<div>\n",
       "<style scoped>\n",
       "    .dataframe tbody tr th:only-of-type {\n",
       "        vertical-align: middle;\n",
       "    }\n",
       "\n",
       "    .dataframe tbody tr th {\n",
       "        vertical-align: top;\n",
       "    }\n",
       "\n",
       "    .dataframe thead th {\n",
       "        text-align: right;\n",
       "    }\n",
       "</style>\n",
       "<table border=\"1\" class=\"dataframe\">\n",
       "  <thead>\n",
       "    <tr style=\"text-align: right;\">\n",
       "      <th></th>\n",
       "      <th>mean_radius</th>\n",
       "      <th>mean_texture</th>\n",
       "      <th>mean_perimeter</th>\n",
       "      <th>mean_area</th>\n",
       "      <th>mean_smoothness</th>\n",
       "      <th>diagnosis</th>\n",
       "    </tr>\n",
       "  </thead>\n",
       "  <tbody>\n",
       "    <tr>\n",
       "      <th>19</th>\n",
       "      <td>13.540</td>\n",
       "      <td>14.36</td>\n",
       "      <td>87.46</td>\n",
       "      <td>566.3</td>\n",
       "      <td>0.09779</td>\n",
       "      <td>1</td>\n",
       "    </tr>\n",
       "    <tr>\n",
       "      <th>20</th>\n",
       "      <td>13.080</td>\n",
       "      <td>15.71</td>\n",
       "      <td>85.63</td>\n",
       "      <td>520.0</td>\n",
       "      <td>0.10750</td>\n",
       "      <td>1</td>\n",
       "    </tr>\n",
       "    <tr>\n",
       "      <th>21</th>\n",
       "      <td>9.504</td>\n",
       "      <td>12.44</td>\n",
       "      <td>60.34</td>\n",
       "      <td>273.9</td>\n",
       "      <td>0.10240</td>\n",
       "      <td>1</td>\n",
       "    </tr>\n",
       "    <tr>\n",
       "      <th>37</th>\n",
       "      <td>13.030</td>\n",
       "      <td>18.42</td>\n",
       "      <td>82.61</td>\n",
       "      <td>523.8</td>\n",
       "      <td>0.08983</td>\n",
       "      <td>1</td>\n",
       "    </tr>\n",
       "    <tr>\n",
       "      <th>46</th>\n",
       "      <td>8.196</td>\n",
       "      <td>16.84</td>\n",
       "      <td>51.71</td>\n",
       "      <td>201.9</td>\n",
       "      <td>0.08600</td>\n",
       "      <td>1</td>\n",
       "    </tr>\n",
       "  </tbody>\n",
       "</table>\n",
       "</div>"
      ],
      "text/plain": [
       "    mean_radius  mean_texture  mean_perimeter  mean_area  mean_smoothness  \\\n",
       "19       13.540         14.36           87.46      566.3          0.09779   \n",
       "20       13.080         15.71           85.63      520.0          0.10750   \n",
       "21        9.504         12.44           60.34      273.9          0.10240   \n",
       "37       13.030         18.42           82.61      523.8          0.08983   \n",
       "46        8.196         16.84           51.71      201.9          0.08600   \n",
       "\n",
       "    diagnosis  \n",
       "19          1  \n",
       "20          1  \n",
       "21          1  \n",
       "37          1  \n",
       "46          1  "
      ]
     },
     "execution_count": 5,
     "metadata": {},
     "output_type": "execute_result"
    }
   ],
   "source": [
    "positive = data[data['diagnosis']==1]\n",
    "negative = data[data['diagnosis']==0]\n",
    "\n",
    "positive.head(5)"
   ]
  },
  {
   "cell_type": "code",
   "execution_count": 6,
   "id": "21887577",
   "metadata": {},
   "outputs": [
    {
     "name": "stdout",
     "output_type": "stream",
     "text": [
      "['mean_radius', 'mean_texture', 'mean_perimeter', 'mean_area', 'mean_smoothness']\n"
     ]
    }
   ],
   "source": [
    "columns = list(data.columns[0:5])\n",
    "print(columns)"
   ]
  },
  {
   "cell_type": "markdown",
   "id": "9a2fb9dd",
   "metadata": {},
   "source": [
    "## Naive Bayes Classifier"
   ]
  },
  {
   "cell_type": "code",
   "execution_count": 7,
   "id": "932aff88",
   "metadata": {},
   "outputs": [
    {
     "data": {
      "image/png": "[encoded data removed]",
      "text/plain": [
       "<Figure size 640x480 with 1 Axes>"
      ]
     },
     "metadata": {},
     "output_type": "display_data"
    }
   ],
   "source": [
    "plt.boxplot(positive['mean_radius'])\n",
    "plt.title(\"box plot of the 'mean_radius' feature\")\n",
    "plt.show()"
   ]
  },
  {
   "cell_type": "code",
   "execution_count": 8,
   "id": "28a90074",
   "metadata": {},
   "outputs": [
    {
     "data": {
      "image/png": "[encoded data removed]",
      "text/plain": [
       "<Figure size 640x480 with 1 Axes>"
      ]
     },
     "metadata": {},
     "output_type": "display_data"
    }
   ],
   "source": [
    "plt.hist(positive['mean_radius'], bins=np.arange(6, 20, 1))\n",
    "plt.title(\"distribution of the 'mean_radius' feature\")\n",
    "plt.show()"
   ]
  },
  {
   "cell_type": "code",
   "execution_count": 9,
   "id": "c1f333ef",
   "metadata": {},
   "outputs": [],
   "source": [
    "mu_positive = [None]*5\n",
    "var_positive = [None]*5\n",
    "\n",
    "for i in range(5):\n",
    "    dim_data = positive[columns[i]].to_numpy()\n",
    "    mu_positive[i] = dim_data.mean()\n",
    "    var_positive[i] = ((dim_data-mu_positive[i])**2).sum()/(len(dim_data) - 1)"
   ]
  },
  {
   "cell_type": "code",
   "execution_count": 10,
   "id": "d7963ee2",
   "metadata": {},
   "outputs": [
    {
     "data": {
      "image/png": "[encoded data removed]",
      "text/plain": [
       "<Figure size 640x480 with 1 Axes>"
      ]
     },
     "metadata": {},
     "output_type": "display_data"
    }
   ],
   "source": [
    "t = np.arange(6, 19, 0.2)\n",
    "p = normal(mu_positive[0], var_positive[0], t)\n",
    "plt.hist(positive['mean_radius'], bins=np.arange(6, 20, 1), density=True)\n",
    "plt.plot(t, p, color='r')\n",
    "plt.title(\"pdf estimation of the 'mean_radius' feature\")\n",
    "plt.show()"
   ]
  },
  {
   "cell_type": "code",
   "execution_count": 11,
   "id": "02e15a72",
   "metadata": {},
   "outputs": [],
   "source": [
    "mu_negative = [None]*5\n",
    "var_negative = [None]*5\n",
    "\n",
    "for i in range(5):\n",
    "    dim_data = negative[columns[i]].to_numpy()\n",
    "    mu_negative[i] = dim_data.mean()\n",
    "    var_negative[i] = ((dim_data-mu_negative[i])**2).sum()/(len(dim_data) - 1)"
   ]
  },
  {
   "cell_type": "code",
   "execution_count": 12,
   "id": "3a46b7b9",
   "metadata": {},
   "outputs": [
    {
     "name": "stdout",
     "output_type": "stream",
     "text": [
      "p_positive: 0.627\n",
      "p_negative: 0.373\n"
     ]
    }
   ],
   "source": [
    "p_positive = positive.shape[0] / data.shape[0]\n",
    "p_negative = negative.shape[0] / data.shape[0]\n",
    "\n",
    "print(\"p_positive: {:.3}\".format(p_positive))\n",
    "print(\"p_negative: {:.3}\".format(p_negative))"
   ]
  },
  {
   "cell_type": "code",
   "execution_count": 13,
   "id": "20b26737",
   "metadata": {},
   "outputs": [],
   "source": [
    "def classifier(x):\n",
    "    p_positive_if_x = 1\n",
    "    p_negative_if_x = 1\n",
    "    for i in range(5):\n",
    "        p_positive_if_x *= normal(mu_positive[i], var_positive[i], x[i])\n",
    "        p_negative_if_x *= normal(mu_negative[i], var_negative[i], x[i])\n",
    "    \n",
    "    if p_positive_if_x*p_positive > p_negative_if_x*p_negative:\n",
    "        return 1\n",
    "\n",
    "    return 0"
   ]
  },
  {
   "cell_type": "code",
   "execution_count": 14,
   "id": "32f0cb0a",
   "metadata": {},
   "outputs": [],
   "source": [
    "yp = [None]*data.shape[0]\n",
    "\n",
    "true_positive = 0\n",
    "true_negative = 0\n",
    "\n",
    "for i in range(data.shape[0]):\n",
    "    x = data.loc[i].to_list()\n",
    "    prediction = classifier(x[:5])\n",
    "    label = int(x[5])\n",
    "    yp[i] = prediction\n",
    "\n",
    "    if label == 1 and prediction == 1:\n",
    "        true_positive += 1\n",
    "    elif label == 0 and prediction == 0:\n",
    "        true_negative += 1"
   ]
  },
  {
   "cell_type": "code",
   "execution_count": 15,
   "id": "218fdf22",
   "metadata": {},
   "outputs": [
    {
     "data": {
      "image/png": "[encoded data removed]",
      "text/plain": [
       "<Figure size 400x300 with 1 Axes>"
      ]
     },
     "metadata": {},
     "output_type": "display_data"
    }
   ],
   "source": [
    "false_positive = negative.shape[0] - true_negative\n",
    "false_negative = positive.shape[0] - true_positive\n",
    "\n",
    "nb_confusion_matrix = np.array([[true_negative, false_positive], [false_negative, true_positive]])\n",
    "draw_confusion_matrix(nb_confusion_matrix)"
   ]
  },
  {
   "cell_type": "code",
   "execution_count": 16,
   "id": "d76f645c",
   "metadata": {},
   "outputs": [
    {
     "name": "stdout",
     "output_type": "stream",
     "text": [
      "accuracy  : 90.5%\n",
      "precision : 88.9%\n",
      "recall    : 96.9%\n"
     ]
    }
   ],
   "source": [
    "nb_accuracy = (true_positive + true_negative) / (data.shape[0])\n",
    "nb_precision = true_positive / (true_positive + false_positive)\n",
    "nb_recall = true_positive / (true_positive + false_negative)\n",
    "\n",
    "print(\"accuracy  : {:.1f}%\".format(nb_accuracy*100))\n",
    "print(\"precision : {:.1f}%\".format(nb_precision*100))\n",
    "print(\"recall    : {:.1f}%\".format(nb_recall*100))"
   ]
  },
  {
   "cell_type": "markdown",
   "id": "6272ab02",
   "metadata": {},
   "source": [
    "## Naive Bayes Classifier using Library"
   ]
  },
  {
   "cell_type": "code",
   "execution_count": 17,
   "id": "ad369221",
   "metadata": {},
   "outputs": [],
   "source": [
    "from sklearn.naive_bayes import GaussianNB\n",
    "gnb = GaussianNB()\n",
    "\n",
    "x = data.drop(labels=['diagnosis'], axis=1).to_numpy()\n",
    "y = data['diagnosis'].to_numpy()\n",
    "\n",
    "gnb = gnb.fit(x, y)\n",
    "y_pred = gnb.predict(x)"
   ]
  },
  {
   "cell_type": "code",
   "execution_count": 18,
   "id": "1bd1b3cb",
   "metadata": {},
   "outputs": [
    {
     "data": {
      "image/png": "[encoded data removed]",
      "text/plain": [
       "<Figure size 400x300 with 1 Axes>"
      ]
     },
     "metadata": {},
     "output_type": "display_data"
    }
   ],
   "source": [
    "from sklearn import metrics\n",
    "draw_confusion_matrix(metrics.confusion_matrix(y, y_pred))"
   ]
  },
  {
   "cell_type": "code",
   "execution_count": 19,
   "id": "c9d0559c",
   "metadata": {},
   "outputs": [
    {
     "name": "stdout",
     "output_type": "stream",
     "text": [
      "accuracy  : 90.3%\n",
      "precision : 89.1%\n",
      "recall    : 96.4%\n"
     ]
    }
   ],
   "source": [
    "print(\"accuracy  : {:.1f}%\".format(metrics.accuracy_score(y, y_pred)*100))\n",
    "print(\"precision : {:.1f}%\".format(metrics.precision_score(y, y_pred)*100))\n",
    "print(\"recall    : {:.1f}%\".format(metrics.recall_score(y, y_pred)*100))"
   ]
  },
  {
   "cell_type": "markdown",
   "id": "0c8f2dcb",
   "metadata": {},
   "source": [
    "## Optimal Bayes Classifier"
   ]
  },
  {
   "cell_type": "code",
   "execution_count": 20,
   "id": "17c31a68",
   "metadata": {},
   "outputs": [],
   "source": [
    "x_positive = positive.drop(labels=['diagnosis'], axis=1).to_numpy().reshape(positive.shape[0], 5)\n",
    "x_negative = negative.drop(labels=['diagnosis'], axis=1).to_numpy().reshape(negative.shape[0], 5)"
   ]
  },
  {
   "cell_type": "code",
   "execution_count": 21,
   "id": "b8a458f6",
   "metadata": {},
   "outputs": [],
   "source": [
    "cov_positive = np.dot(\n",
    "    (x_positive - mu_positive).transpose(), x_positive - mu_positive)\n",
    "\n",
    "cov_positive = cov_positive / positive.shape[0]"
   ]
  },
  {
   "cell_type": "code",
   "execution_count": 22,
   "id": "505b8e0c",
   "metadata": {},
   "outputs": [],
   "source": [
    "cov_negative = np.dot(\n",
    "    (x_negative - mu_negative).transpose(), x_negative - mu_negative)\n",
    "\n",
    "cov_negative = cov_negative / negative.shape[0]"
   ]
  },
  {
   "cell_type": "code",
   "execution_count": 23,
   "id": "765b8688",
   "metadata": {},
   "outputs": [],
   "source": [
    "from scipy.stats import multivariate_normal as mnormal\n",
    "\n",
    "def bayes_classifier(x):\n",
    "    p_positive_if_x = mnormal.pdf(x, mu_positive, cov_positive)\n",
    "    p_negative_if_x = mnormal.pdf(x, mu_negative, cov_negative)\n",
    "    \n",
    "    if p_positive_if_x*p_positive > p_negative_if_x*p_negative:\n",
    "        return 1\n",
    "\n",
    "    return 0"
   ]
  },
  {
   "cell_type": "code",
   "execution_count": 24,
   "id": "b74c0e13",
   "metadata": {},
   "outputs": [
    {
     "data": {
      "image/png": "[encoded data removed]",
      "text/plain": [
       "<Figure size 400x300 with 1 Axes>"
      ]
     },
     "metadata": {},
     "output_type": "display_data"
    }
   ],
   "source": [
    "yp_bayesian = [None]*data.shape[0]\n",
    "\n",
    "for i in range(data.shape[0]):\n",
    "    x = data.loc[i].to_numpy()\n",
    "    prediction = bayes_classifier(x[:5])\n",
    "    yp_bayesian[i] = prediction\n",
    "\n",
    "b_confusion_matrix = metrics.confusion_matrix(y, yp_bayesian)\n",
    "draw_confusion_matrix(b_confusion_matrix)"
   ]
  },
  {
   "cell_type": "code",
   "execution_count": 25,
   "id": "ab7c6ab8",
   "metadata": {},
   "outputs": [
    {
     "name": "stdout",
     "output_type": "stream",
     "text": [
      "accuracy  : 92.1%\n",
      "precision : 90.8%\n",
      "recall    : 97.2%\n"
     ]
    }
   ],
   "source": [
    "b_accuracy = metrics.accuracy_score(y, yp_bayesian)\n",
    "b_precision = metrics.precision_score(y, yp_bayesian)\n",
    "b_recall = metrics.recall_score(y, yp_bayesian)\n",
    "\n",
    "print(\"accuracy  : {:.1f}%\".format(b_accuracy*100))\n",
    "print(\"precision : {:.1f}%\".format(b_precision*100))\n",
    "print(\"recall    : {:.1f}%\".format(b_recall*100))"
   ]
  },
  {
   "cell_type": "markdown",
   "id": "de3919af",
   "metadata": {},
   "source": [
    "## Naive Bayes vs Optimal Bayes\n",
    "\n",
    "optimal bayes classifier improvements with respect to the naive bayes classifier:"
   ]
  },
  {
   "cell_type": "code",
   "execution_count": 26,
   "id": "2687c9ba",
   "metadata": {},
   "outputs": [
    {
     "name": "stdout",
     "output_type": "stream",
     "text": [
      "accuracy improvement  : 1.6%\n",
      "precision improvement : 1.9%\n",
      "recall improvement    : 0.3%\n"
     ]
    }
   ],
   "source": [
    "print(\"accuracy improvement  : {:.1f}%\".format((b_accuracy-nb_accuracy)*100))\n",
    "print(\"precision improvement : {:.1f}%\".format((b_precision-nb_precision)*100))\n",
    "print(\"recall improvement    : {:.1f}%\".format((b_recall-nb_recall)*100))"
   ]
  }
 ],
 "metadata": {
  "kernelspec": {
   "display_name": "Python 3 (ipykernel)",
   "language": "python",
   "name": "python3"
  },
  "language_info": {
   "codemirror_mode": {
    "name": "ipython",
    "version": 3
   },
   "file_extension": ".py",
   "mimetype": "text/x-python",
   "name": "python",
   "nbconvert_exporter": "python",
   "pygments_lexer": "ipython3",
   "version": "3.9.13"
  }
 },
 "nbformat": 4,
 "nbformat_minor": 5
}
