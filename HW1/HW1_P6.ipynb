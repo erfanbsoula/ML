{
 "cells": [
  {
   "cell_type": "markdown",
   "id": "f17d149f",
   "metadata": {},
   "source": [
    "# Machine Learning - HW1 - Part 6"
   ]
  },
  {
   "cell_type": "code",
   "execution_count": 1,
   "id": "ef8d9d83",
   "metadata": {},
   "outputs": [],
   "source": [
    "import numpy as np\n",
    "from PIL import Image, ImageStat\n",
    "from matplotlib import pyplot as plt\n",
    "import os"
   ]
  },
  {
   "cell_type": "markdown",
   "id": "ceefa615",
   "metadata": {},
   "source": [
    "### Faunction Definitions"
   ]
  },
  {
   "cell_type": "code",
   "execution_count": 2,
   "id": "8d2bbc78",
   "metadata": {},
   "outputs": [],
   "source": [
    "def draw_confusion_matrix(matrix):\n",
    "    fig, ax = plt.subplots(figsize=(4, 3))\n",
    "    ax.imshow(matrix, cmap='YlGn')\n",
    "\n",
    "    ax.set_xticks(np.arange(2), labels=range(2))\n",
    "    ax.set_yticks(np.arange(2), labels=range(2))\n",
    "\n",
    "    ax.set_xlabel(\"prediction\")\n",
    "    ax.set_ylabel(\"label\")\n",
    "\n",
    "    colors = [['w', 'k'], ['k', 'w']]\n",
    "    for i in range(2):\n",
    "        for j in range(2):\n",
    "            text = ax.text(j, i, matrix[i][j], ha=\"center\", va=\"center\", color=colors[i][j])\n",
    "\n",
    "    ax.set_title(\"Confusion Matrix\")\n",
    "    fig.tight_layout()\n",
    "    plt.savefig('tmp.png', dpi = 150)\n",
    "    plt.show()"
   ]
  },
  {
   "cell_type": "markdown",
   "id": "d09bad14",
   "metadata": {},
   "source": [
    "### Loading Dataset"
   ]
  },
  {
   "cell_type": "code",
   "execution_count": 3,
   "id": "039cc1ae",
   "metadata": {},
   "outputs": [],
   "source": [
    "imgs = []\n",
    "mean_colors = []\n",
    "\n",
    "data_path = os.path.join('Data', 'Images')\n",
    "\n",
    "for file in os.listdir(data_path):\n",
    "    file_path = os.path.join(data_path, file)\n",
    "    img = Image.open(file_path)\n",
    "    imgs.append(img)\n",
    "    mean_colors.append(ImageStat.Stat(img).mean)"
   ]
  },
  {
   "cell_type": "markdown",
   "id": "963db6dc",
   "metadata": {},
   "source": [
    "### classifying Chelsea as 1 and Manchester United as 0\n",
    "\n",
    "The first 64 images belong to Chelsea and the second 64 images belong to Manchester United"
   ]
  },
  {
   "cell_type": "code",
   "execution_count": 4,
   "id": "70714f44",
   "metadata": {},
   "outputs": [],
   "source": [
    "y = [1 if i < 64 else 0 for i in range(len(imgs))]"
   ]
  },
  {
   "cell_type": "code",
   "execution_count": 5,
   "id": "17efe484",
   "metadata": {},
   "outputs": [],
   "source": [
    "def classifier(mean_color):\n",
    "    if mean_color[0] < mean_color[2]:\n",
    "        return 1\n",
    "\n",
    "    return 0"
   ]
  },
  {
   "cell_type": "code",
   "execution_count": 6,
   "id": "cd538f83",
   "metadata": {},
   "outputs": [],
   "source": [
    "yp = [classifier(mean_colors[i]) for i in range(len(imgs))]\n",
    "\n",
    "yp = np.array(yp)\n",
    "y = np.array(y)"
   ]
  },
  {
   "cell_type": "code",
   "execution_count": 7,
   "id": "6ba8dc4b",
   "metadata": {},
   "outputs": [
    {
     "data": {
      "image/png": "[encoded data removed]",
      "text/plain": [
       "<Figure size 400x300 with 1 Axes>"
      ]
     },
     "metadata": {},
     "output_type": "display_data"
    }
   ],
   "source": [
    "from sklearn import metrics\n",
    "\n",
    "confusion_matrix = metrics.confusion_matrix(y, yp)\n",
    "draw_confusion_matrix(confusion_matrix)"
   ]
  },
  {
   "cell_type": "code",
   "execution_count": 8,
   "id": "7e230023",
   "metadata": {
    "scrolled": true
   },
   "outputs": [
    {
     "name": "stdout",
     "output_type": "stream",
     "text": [
      "accuracy: 84.4%\n",
      "\n",
      "-- Chelsea\n",
      "recall: 71.9%\n",
      "precision: 97.9%\n",
      "\n",
      "-- Manchester United\n",
      "recall: 98.3%\n",
      "precision: 76.0%\n"
     ]
    }
   ],
   "source": [
    "print(\"accuracy: {:.1f}%\".format(metrics.accuracy_score(y, yp)*100), end='\\n\\n')\n",
    "print('-- Chelsea')\n",
    "print(\"recall: {:.1f}%\".format(metrics.recall_score(y, yp)*100))\n",
    "print(\"precision: {:.1f}%\".format(metrics.precision_score(y, yp)*100), end='\\n\\n')\n",
    "print('-- Manchester United')\n",
    "print(\"recall: {:.1f}%\".format(metrics.recall_score(1-y, 1-yp)*100))\n",
    "print(\"precision: {:.1f}%\".format(metrics.precision_score(1-y, 1-yp)*100))"
   ]
  },
  {
   "cell_type": "markdown",
   "id": "eb85146c",
   "metadata": {},
   "source": [
    "## Naive Bayes Classifier\n",
    "\n",
    "training a naive bayes classifier with red and blue mean color input"
   ]
  },
  {
   "cell_type": "code",
   "execution_count": 9,
   "id": "864ce329",
   "metadata": {},
   "outputs": [],
   "source": [
    "x = np.array([[mean_colors[i][0], mean_colors[i][2]] for i in range(len(imgs))])"
   ]
  },
  {
   "cell_type": "markdown",
   "id": "b46ef024",
   "metadata": {},
   "source": [
    "### classifying Chelsea as 1 and Manchester United as 0"
   ]
  },
  {
   "cell_type": "code",
   "execution_count": 10,
   "id": "366fee41",
   "metadata": {},
   "outputs": [],
   "source": [
    "from sklearn.naive_bayes import GaussianNB\n",
    "gnb = GaussianNB()\n",
    "\n",
    "gnb = gnb.fit(x, y)\n",
    "y_pred = gnb.predict(x)"
   ]
  },
  {
   "cell_type": "code",
   "execution_count": 11,
   "id": "ec66590c",
   "metadata": {},
   "outputs": [
    {
     "data": {
      "image/png": "[encoded data removed]",
      "text/plain": [
       "<Figure size 400x300 with 1 Axes>"
      ]
     },
     "metadata": {},
     "output_type": "display_data"
    }
   ],
   "source": [
    "draw_confusion_matrix(metrics.confusion_matrix(y, y_pred))"
   ]
  },
  {
   "cell_type": "code",
   "execution_count": 12,
   "id": "6a51df1d",
   "metadata": {},
   "outputs": [
    {
     "name": "stdout",
     "output_type": "stream",
     "text": [
      "accuracy: 89.3%\n",
      "\n",
      "-- Chelsea\n",
      "recall: 93.8%\n",
      "precision: 87.0%\n",
      "\n",
      "-- Manchester United\n",
      "recall: 84.5%\n",
      "precision: 92.5%\n"
     ]
    }
   ],
   "source": [
    "print(\"accuracy: {:.1f}%\".format(metrics.accuracy_score(y, y_pred)*100), end='\\n\\n')\n",
    "print('-- Chelsea')\n",
    "print(\"recall: {:.1f}%\".format(metrics.recall_score(y, y_pred)*100))\n",
    "print(\"precision: {:.1f}%\".format(metrics.precision_score(y, y_pred)*100), end='\\n\\n')\n",
    "print('-- Manchester United')\n",
    "print(\"recall: {:.1f}%\".format(metrics.recall_score(1-y, 1-y_pred)*100))\n",
    "print(\"precision: {:.1f}%\".format(metrics.precision_score(1-y, 1-y_pred)*100))"
   ]
  },
  {
   "cell_type": "markdown",
   "id": "9ba6f4c8",
   "metadata": {},
   "source": [
    "### Separate Test & Train Data\n",
    "\n",
    "this time we will split the data into test and train sets, in order to test the efficiency of the naive bayes classifier on this problem"
   ]
  },
  {
   "cell_type": "code",
   "execution_count": 13,
   "id": "62e27407",
   "metadata": {},
   "outputs": [],
   "source": [
    "from sklearn.model_selection import train_test_split\n",
    "x_train, x_test, y_train, y_test = train_test_split(x, y, test_size=0.2, random_state=1)"
   ]
  },
  {
   "cell_type": "code",
   "execution_count": 14,
   "id": "5369ba5f",
   "metadata": {},
   "outputs": [],
   "source": [
    "gnb2 = GaussianNB()\n",
    "\n",
    "gnb2 = gnb.fit(x_train, y_train)\n",
    "y_pred = gnb.predict(x_test)"
   ]
  },
  {
   "cell_type": "code",
   "execution_count": 15,
   "id": "65811356",
   "metadata": {},
   "outputs": [
    {
     "data": {
      "image/png": "[encoded data removed]",
      "text/plain": [
       "<Figure size 400x300 with 1 Axes>"
      ]
     },
     "metadata": {},
     "output_type": "display_data"
    }
   ],
   "source": [
    "draw_confusion_matrix(metrics.confusion_matrix(y_test, y_pred))"
   ]
  },
  {
   "cell_type": "code",
   "execution_count": 16,
   "id": "04646be9",
   "metadata": {},
   "outputs": [
    {
     "name": "stdout",
     "output_type": "stream",
     "text": [
      "accuracy: 88.0%\n",
      "\n",
      "-- Chelsea\n",
      "recall: 100.0%\n",
      "precision: 72.7%\n",
      "\n",
      "-- Manchester United\n",
      "recall: 82.4%\n",
      "precision: 100.0%\n"
     ]
    }
   ],
   "source": [
    "print(\"accuracy: {:.1f}%\".format(metrics.accuracy_score(y_test, y_pred)*100), end='\\n\\n')\n",
    "print('-- Chelsea')\n",
    "print(\"recall: {:.1f}%\".format(metrics.recall_score(y_test, y_pred)*100))\n",
    "print(\"precision: {:.1f}%\".format(metrics.precision_score(y_test, y_pred)*100), end='\\n\\n')\n",
    "print('-- Manchester United')\n",
    "print(\"recall: {:.1f}%\".format(metrics.recall_score(1-y_test, 1-y_pred)*100))\n",
    "print(\"precision: {:.1f}%\".format(metrics.precision_score(1-y_test, 1-y_pred)*100))"
   ]
  }
 ],
 "metadata": {
  "kernelspec": {
   "display_name": "Python 3 (ipykernel)",
   "language": "python",
   "name": "python3"
  },
  "language_info": {
   "codemirror_mode": {
    "name": "ipython",
    "version": 3
   },
   "file_extension": ".py",
   "mimetype": "text/x-python",
   "name": "python",
   "nbconvert_exporter": "python",
   "pygments_lexer": "ipython3",
   "version": "3.9.13"
  }
 },
 "nbformat": 4,
 "nbformat_minor": 5
}
